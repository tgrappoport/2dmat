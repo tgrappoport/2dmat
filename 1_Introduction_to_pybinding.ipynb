{
  "cells": [
    {
      "cell_type": "markdown",
      "metadata": {
        "colab_type": "text",
        "id": "view-in-github"
      },
      "source": [
        "<a href=\"https://colab.research.google.com/github/tgrappoport/2dmat/blob/master/1_Introduction_to_pybinding.ipynb\" target=\"_parent\"><img src=\"https://colab.research.google.com/assets/colab-badge.svg\" alt=\"Open In Colab\"/></a>"
      ]
    },
    {
      "cell_type": "markdown",
      "metadata": {
        "id": "x6ua3u5A4RVs"
      },
      "source": [
        "# Introduction: how to use the notebooks and pybinding"
      ]
    },
    {
      "cell_type": "markdown",
      "metadata": {
        "id": "MHb5z4oh3tpG"
      },
      "source": [
        "The atomic orbitals can be used as a basis to write down a matrix representation for the Hamiltonian operator, which can then be diagonalized to find the energy eigenvalues. Instead of having to write our 2D Hamiltonian in a complicated matrix, we are going to use an awesome python package named [*Pybinding*](https://docs.pybinding.site/). If you are familiar with python you can install pybinding on your python enviroment with pip. Otherwise, you can use our notebooks in *google colab*.\n",
        "Let us play a bit and see how simple it can be. We will begin by importing pybinding as pb so that all *Pybinding* functions begin with a pb.\n",
        "\n",
        "* The first two lines install a few libraries that we will\n",
        "use and are not included in google colab. *Pybinding* has a set of cool features to work with tight-binding Hamiltonians while *Quantum Kite* performs quantum transport calculations.\n",
        "* The other are mathematical and graphical libraries for python.\n"
      ]
    },
    {
      "cell_type": "code",
      "execution_count": null,
      "metadata": {
        "cell_id": "00000-39da16eb-eab7-4d6e-a268-578551153cb6",
        "colab": {
          "base_uri": "https://localhost:8080/"
        },
        "collapsed": true,
        "deepnote_cell_height": 315,
        "deepnote_cell_type": "code",
        "deepnote_to_be_reexecuted": false,
        "execution_millis": 1,
        "execution_start": 1616194679682,
        "id": "40yjQSf2it42",
        "outputId": "9666992c-8edf-4708-8b42-4809bc10162c",
        "source_hash": "87a23814",
        "tags": []
      },
      "outputs": [
        {
          "ename": "",
          "evalue": "",
          "output_type": "error",
          "traceback": [
            "\u001b[1;31mThe kernel failed to start as '/Users/tgrappoport/Library/Python/3.9/lib/python/site-packages/psutil/_psutil_osx.abi3.so' could not be imported from '/Users/tgrappoport/Library/Python/3.9/lib/python/site-packages/psutil/_psutil_osx.abi3.so, 0x0002'.\n",
            "\u001b[1;31mClick <a href='https://aka.ms/kernelFailuresModuleImportErrFromFile'>here</a> for more info."
          ]
        }
      ],
      "source": [
        "\n",
        "!pip install h5py==3.11.0\n",
        "!pip install -i https://test.pypi.org/simple/ pybinding quantum-kite==0.0.4\n",
        "\n",
        "\n",
        "import numpy as np\n",
        "from math import sqrt, pi\n",
        "import pybinding as pb\n",
        "import kite\n",
        "import matplotlib.pyplot as plt\n",
        "import seaborn as sns\n",
        "import pandas as pd\n",
        "\n",
        "# seaborn setting\n",
        "sns.set(style=\"ticks\")\n",
        "sns.set_style({\"xtick.direction\": \"in\", \"ytick.direction\": \"in\"})\n",
        "sns.set_context(\"notebook\", font_scale=1.2, rc={\"lines.linewidth\": 2.5})\n",
        "\n",
        "\n"
      ]
    },
    {
      "cell_type": "markdown",
      "metadata": {
        "cell_id": "b54e72ee26ef4393b80cac2c2355b127",
        "deepnote_cell_height": 267.984375,
        "deepnote_cell_type": "markdown",
        "id": "BuDdqB3Fit4w",
        "tags": []
      },
      "source": [
        "\n",
        " After that, let us try to define a square lattice with one atom per unit cell and plot it. To define a lattice, we need to give the position of the atomic orbitals in the unit cell, the two lattice vectors and the hopping integrals connecting the atomic orbitals.\n",
        "\n"
      ]
    },
    {
      "cell_type": "markdown",
      "metadata": {
        "cell_id": "00001-129609fd-3941-4236-9382-549c2ee1471f",
        "deepnote_cell_height": 155.984375,
        "deepnote_cell_type": "markdown",
        "id": "NIbmQWsAit45",
        "tags": []
      },
      "source": [
        "First, we need to define the lattice but in *Pybinding* we only need to define the unit cell and the \"connections\" between unit cells. This will be our lattice.\n",
        "\n",
        "**From PB:**\n",
        "A lattice object describes the unit cell of a crystal lattice. This includes the primitive vectors, positions of sublattice sites and hopping parameters which connect those sites. All of this structural information is used to build up a larger system by translation, using the translation symmetry.\n",
        "With the lattice object, it is also possible to plot its Brillouin zone, which is basically the unit cell in the reciprocal space.\n",
        "\n",
        "But what about DFT calculations? They can be used to extract the tight-binding parameters that work as the input for *Pybinding* and quantum Kite. We will discuss this at the very end."
      ]
    },
    {
      "cell_type": "code",
      "execution_count": null,
      "metadata": {
        "cell_id": "00001-396b67ae-3fc5-4417-8f6c-55792c441707",
        "colab": {
          "base_uri": "https://localhost:8080/",
          "height": 897
        },
        "deepnote_cell_height": 590,
        "deepnote_cell_type": "code",
        "deepnote_output_heights": [
          277
        ],
        "deepnote_to_be_reexecuted": false,
        "execution_millis": 363,
        "execution_start": 1616194683093,
        "id": "TrPggQYfit45",
        "outputId": "4cb357ff-0d40-48f8-ba84-f534ea8bc5e2",
        "source_hash": "2433bbd7",
        "tags": []
      },
      "outputs": [],
      "source": [
        "\n",
        "\n",
        "def square_lattice(d, t):\n",
        "    lat = pb.Lattice(a1=[d, 0], a2=[0, d])\n",
        "    lat.add_sublattices(('A', [0, 0]))\n",
        "    lat.add_hoppings(([0, 1], 'A', 'A', -t),\n",
        "                     ([1, 0], 'A', 'A', -t))\n",
        "    return lat\n",
        "\n",
        "# we can quickly set a shorter unit length `d`\n",
        "d=1\n",
        "lattice = square_lattice(d, t=1)\n",
        "lattice.plot()\n",
        "plt.show()\n",
        "lattice.plot_brillouin_zone()\n"
      ]
    },
    {
      "cell_type": "markdown",
      "metadata": {
        "cell_id": "00004-6b460688-5c00-42ad-ba4b-631e75b32e0e",
        "deepnote_cell_height": 414.78125,
        "deepnote_cell_type": "markdown",
        "id": "jfn7eN_Iit4-",
        "owner_user_id": "39136d2e-323e-41bd-bc81-fee553950061",
        "tags": []
      },
      "source": [
        "After defining the lattice, one can define a model which isn't a lattice. A model contains the full tight-binding description of the physical system that we wish to solve (although the hoppings were defined in the lattice instance). The model can be periodic or finite and there is a lot of flexibility to define a model. Here, we include translational_symmetry() to create an infinite square lattice.\n",
        "\n",
        "We then define the numerical solver to diagonalize our system. One safe choice is lapack, extensivelly used in different enviroments. As we solve in k-space, we also need to define a point the Brillouin zone. We need to define what pair of $(k_x,k_y)$ will be used for the calculation of our energies and eigenfunctions.\n",
        "\n",
        "In the example below, we are not defining a pair of $(k_x,k_y)$ in a path in the Brillouin zone (BZ) where the band structure will be calculated. Pybinding allows it to draw the path in the BZ. With the solver, it is possible to extract the band structure, the eigenvectors and also other derived quantities that we will see later."
      ]
    },
    {
      "cell_type": "code",
      "execution_count": null,
      "metadata": {
        "id": "bOU7U9e4kZBN"
      },
      "outputs": [],
      "source": [
        "model = pb.Model(\n",
        "    lattice,\n",
        "    pb.translational_symmetry()\n",
        ")\n",
        "model.plot()\n",
        "plt.show()"
      ]
    },
    {
      "cell_type": "markdown",
      "metadata": {
        "id": "TVgLZEPzkdAs"
      },
      "source": [
        "We then define the numerical solver to diagonalize our system. One safe choice is lapack, extensivelly used in different enviroments."
      ]
    },
    {
      "cell_type": "code",
      "execution_count": null,
      "metadata": {
        "id": "6OgxnHTLkiBQ"
      },
      "outputs": [],
      "source": [
        "solver = pb.solver.lapack(model)"
      ]
    },
    {
      "cell_type": "markdown",
      "metadata": {
        "id": "aUpVo6vGktRW"
      },
      "source": [
        "As we solve in k-space, we also need to define a point the Brillouin zone. We need to define what pair of (𝑘𝑥,𝑘𝑦) will be used for the calculation of our energies and eigenfunctions. Pybinding allows it to draw the path in the BZ."
      ]
    },
    {
      "cell_type": "code",
      "execution_count": null,
      "metadata": {
        "id": "Wys3pkxuk7VF"
      },
      "outputs": [],
      "source": [
        "Gamma =[0,0]\n",
        "X = [pi/d,0]\n",
        "Xn = [-pi/d,0]\n",
        "M = [pi/d,pi/d]\n",
        "bands = solver.calc_bands(Gamma,X, M, Gamma)\n",
        "model.lattice.plot_brillouin_zone(decorate=False)\n",
        "bands.plot_kpath(point_labels=['$\\Gamma$','X','M','$\\Gamma$'])\n",
        "plt.show()"
      ]
    },
    {
      "cell_type": "markdown",
      "metadata": {
        "id": "k7NBOw3XlREb"
      },
      "source": [
        "We can now plot the band structure using the same path"
      ]
    },
    {
      "cell_type": "code",
      "execution_count": null,
      "metadata": {
        "id": "6AXTIpaclZsR"
      },
      "outputs": [],
      "source": [
        "\n",
        "bands.plot(point_labels=['$\\Gamma$','X','M','$\\Gamma$'])\n",
        "plt.show()"
      ]
    },
    {
      "cell_type": "markdown",
      "metadata": {
        "id": "dBvxYd4sllOR"
      },
      "source": [
        "Or recalculate the bandstructure and plot it using a different path:"
      ]
    },
    {
      "cell_type": "code",
      "execution_count": null,
      "metadata": {
        "cell_id": "00003-620019bf-4d88-46a7-9a3b-a764ab46201c",
        "colab": {
          "base_uri": "https://localhost:8080/",
          "height": 1000
        },
        "deepnote_cell_height": 1682,
        "deepnote_cell_type": "code",
        "deepnote_output_heights": [
          277,
          282,
          277,
          278
        ],
        "deepnote_to_be_reexecuted": false,
        "execution_millis": 1073,
        "execution_start": 1616194701048,
        "id": "3mKsuW2dit4_",
        "outputId": "380ce29f-4bf0-4e68-840c-5fad6a2d7098",
        "source_hash": "b4bd6862",
        "tags": []
      },
      "outputs": [],
      "source": [
        "\n",
        "bands = solver.calc_bands(Xn,Gamma,X)\n",
        "bands.plot(point_labels=['X','$\\Gamma$','X'])\n",
        "plt.show()\n",
        "\n"
      ]
    },
    {
      "cell_type": "markdown",
      "metadata": {
        "cell_id": "00006-ef653de2-0af7-4e0b-b5a6-72a9712cbdc4",
        "deepnote_cell_height": 74.796875,
        "deepnote_cell_type": "markdown",
        "id": "1rlNMuVRit5A",
        "tags": []
      },
      "source": [
        "Let us now go  to a one-dimensional model but we where we add two different sites in a single unit cell. Check the book of Datta for this example and the analytical solution."
      ]
    },
    {
      "cell_type": "code",
      "execution_count": null,
      "metadata": {
        "cell_id": "00004-c9ecb638-113f-445b-bad3-69fd223019cf",
        "colab": {
          "base_uri": "https://localhost:8080/",
          "height": 736
        },
        "deepnote_cell_height": 970,
        "deepnote_cell_type": "code",
        "deepnote_output_heights": [
          204,
          278
        ],
        "deepnote_to_be_reexecuted": false,
        "execution_millis": 444,
        "execution_start": 1616192159334,
        "id": "bTvDmk26it5B",
        "outputId": "22142265-3f2f-43b3-f5c3-dbfcac4751ed",
        "source_hash": "4108c410",
        "tags": []
      },
      "outputs": [],
      "source": [
        "def line_lattice(d, t):\n",
        "    lat = pb.Lattice(a1=[d, 0])\n",
        "    lat.add_sublattices((\"A\", [-d / 2, 0]), (\"B\", [d / 2, 0]))\n",
        "    lat.add_hoppings(([0, 0], \"A\", \"B\", t / 2), ([1, 0], \"B\", \"A\", t))\n",
        "    return lat\n",
        "\n",
        "\n",
        "# we can quickly set a shorter unit length `d`\n",
        "d = 1\n",
        "lattice = line_lattice(d, t=1)\n",
        "lattice.plot()\n",
        "plt.show()\n",
        "model = pb.Model(line_lattice(d, t=1), pb.translational_symmetry())\n",
        "solver = pb.solver.lapack(model)\n",
        "Gamma = [0, 0]\n",
        "X = [pi / d, 0]\n",
        "Xn = [-pi / d, 0]\n",
        "bands = solver.calc_bands(Xn, Gamma, X)\n",
        "bands.plot(point_labels=[\"-$\\pi/d$\", \"0\", \"$\\pi/d$\"])\n",
        "plt.show()\n"
      ]
    },
    {
      "cell_type": "markdown",
      "metadata": {
        "id": "T7Lyz6Lxrj2o"
      },
      "source": [
        "Now that we know how to include two sites per unit cell, we are ready to calculate the band structure of graphene. Although we could define the lattice, as we find in [pybinding tutorial](https://docs.pybinding.site/en/stable/tutorial/lattice.html), we will use the pre-defined graphene lattice it already has (!) and use it to plot its band structure. Pybinding has a library with different tight-binding models for 2D materials like TMDs and phosphorene. But you can always construct your own.\n",
        "\n",
        "We will use periodic boundary conditions and a simple translational symmetry in pybinding. But we can use other setups like finite system and superlattices."
      ]
    },
    {
      "cell_type": "code",
      "execution_count": null,
      "metadata": {
        "cell_id": "00005-cdb9b28f-2fd0-468c-90de-ba086fc902e9",
        "deepnote_cell_height": 81,
        "deepnote_cell_type": "code",
        "deepnote_to_be_reexecuted": false,
        "execution_millis": 0,
        "execution_start": 1616192222693,
        "id": "P_cRW0Hait5C",
        "source_hash": "71c3819b",
        "tags": []
      },
      "outputs": [],
      "source": [
        "from pybinding.repository import graphene"
      ]
    },
    {
      "cell_type": "code",
      "execution_count": null,
      "metadata": {
        "cell_id": "00008-2ad7c9ac-4923-4b66-8596-58934ea8c5d4",
        "colab": {
          "base_uri": "https://localhost:8080/",
          "height": 460
        },
        "deepnote_cell_height": 446,
        "deepnote_cell_type": "code",
        "deepnote_output_heights": [
          277
        ],
        "deepnote_to_be_reexecuted": false,
        "execution_millis": 176,
        "execution_start": 1616192277142,
        "id": "qe2DAjonit5D",
        "outputId": "fc1eaf13-1b74-4528-e084-c30be565a701",
        "source_hash": "706718c5",
        "tags": []
      },
      "outputs": [],
      "source": [
        "model = pb.Model(\n",
        "    graphene.monolayer(),\n",
        "    pb.translational_symmetry()\n",
        ")\n",
        "model.plot()\n",
        "\n",
        "model.lattice.plot_brillouin_zone(decorate=True)\n",
        "plt.show()"
      ]
    },
    {
      "cell_type": "code",
      "execution_count": null,
      "metadata": {
        "cell_id": "00009-8de88733-613e-4c47-a1a9-52120d2792e5",
        "colab": {
          "base_uri": "https://localhost:8080/",
          "height": 454
        },
        "deepnote_cell_height": 590,
        "deepnote_cell_type": "code",
        "deepnote_output_heights": [
          277
        ],
        "deepnote_to_be_reexecuted": false,
        "execution_millis": 183,
        "execution_start": 1616192341958,
        "id": "vZGlso_jit5E",
        "outputId": "248f1b51-4a48-4aff-ef92-d61ceddf2487",
        "source_hash": "b2943ca4",
        "tags": []
      },
      "outputs": [],
      "source": [
        "solver = pb.solver.lapack(model)  # eigensolver from the LAPACK library\n",
        "\n",
        "# significant points in graphene's Brillouin zone\n",
        "a_cc = graphene.a_cc  # carbon-carbon distance\n",
        "Gamma = [0, 0]\n",
        "K1 = [-4*pi / (3*sqrt(3)*a_cc), 0]\n",
        "M = [0, 2*pi / (3*a_cc)]\n",
        "K2 = [2*pi / (3*sqrt(3)*a_cc), 2*pi / (3*a_cc)]\n",
        "\n",
        "# plot the bands through the desired points\n",
        "bands = solver.calc_bands(K1, Gamma, M, K2)\n",
        "\n",
        "bands.plot(point_labels=['K', r'$\\Gamma$', 'M', 'K'])\n",
        "plt.show()\n"
      ]
    },
    {
      "cell_type": "markdown",
      "metadata": {
        "id": "ZMG0PjqB4vPD"
      },
      "source": [
        "We can work with finite systems in pybinding. As they can have different geometries, let us see how to define a geometrical object there. To define and plot a rectangle:\n",
        "\n"
      ]
    },
    {
      "cell_type": "code",
      "execution_count": null,
      "metadata": {
        "colab": {
          "base_uri": "https://localhost:8080/",
          "height": 454
        },
        "id": "bZxCpM-A41g8",
        "outputId": "a1cfa962-3278-4f23-cb7a-a0c3c7a790ea"
      },
      "outputs": [],
      "source": [
        "def rectangle(width, height):\n",
        "    x0 = width / 2\n",
        "    y0 = height / 2\n",
        "    return pb.Polygon([[x0, y0], [x0, -y0], [-x0, -y0], [-x0, y0]])\n",
        "\n",
        "shape = rectangle(1.6, 1.2)\n",
        "shape.plot()"
      ]
    },
    {
      "cell_type": "markdown",
      "metadata": {
        "id": "3Id9Ir9c410w"
      },
      "source": [
        "or a ring..."
      ]
    },
    {
      "cell_type": "code",
      "execution_count": null,
      "metadata": {
        "colab": {
          "base_uri": "https://localhost:8080/",
          "height": 471
        },
        "id": "RXtFxwUk5Bk3",
        "outputId": "b53fae54-7e06-4583-c648-388b7e0e1747"
      },
      "outputs": [],
      "source": [
        "def ring(inner_radius, outer_radius):\n",
        "    \"\"\"Ring shape defined by an inner and outer radius\"\"\"\n",
        "    def contains(x, y, z):\n",
        "        r = np.sqrt(x**2 + y**2)\n",
        "        return np.logical_and(inner_radius < r, r < outer_radius)\n",
        "    return pb.FreeformShape(contains, width=[2*outer_radius, 2*outer_radius])\n",
        "shape = ring(1.2, 1.6)\n",
        "shape.plot()"
      ]
    },
    {
      "cell_type": "markdown",
      "metadata": {
        "id": "C3R4DzCP5Fk4"
      },
      "source": [
        "We can model a finite system instead of using the translational symmetry and we can definde the model in any geometry if we define this geometry first"
      ]
    },
    {
      "cell_type": "code",
      "execution_count": null,
      "metadata": {
        "colab": {
          "base_uri": "https://localhost:8080/",
          "height": 454
        },
        "id": "ndQc6icH5KLZ",
        "outputId": "ab020273-311f-4b9a-bce3-0b8e19adb965"
      },
      "outputs": [],
      "source": [
        "model = pb.Model(\n",
        "    square_lattice(1,1),\n",
        "    rectangle(width=20, height=20)\n",
        ")\n",
        "model.plot()"
      ]
    },
    {
      "cell_type": "markdown",
      "metadata": {
        "id": "Xp037Gn15Mej"
      },
      "source": [
        "Now we can proceed like before. We define a solver and calculate the eigenvalues. The main difference is that for periodic models the system is diagonalized in k space and we define the points in $k$ space where we want the eigenvalues. Here, in a finite system, the eigenvalues are just ordered in energy and can be ploted in function of the state number\n",
        "\n"
      ]
    },
    {
      "cell_type": "code",
      "execution_count": null,
      "metadata": {
        "colab": {
          "base_uri": "https://localhost:8080/",
          "height": 478
        },
        "id": "_mMaUfGI5SV0",
        "outputId": "3a8fbf36-6acf-4ef5-a2f4-c17cc6f0b286"
      },
      "outputs": [],
      "source": [
        "solver = pb.solver.lapack(model)\n",
        "eigenvalues = solver.calc_eigenvalues()\n",
        "eigenvalues.plot()\n",
        "plt.xlim(0,50)\n",
        "plt.ylim(-4,-2)"
      ]
    },
    {
      "cell_type": "markdown",
      "metadata": {
        "id": "q-n_jNOa5Uqy"
      },
      "source": [
        "There are ways to have an visualize the eigenvectors by plotting the probability density of a given eigenstate $\\psi_n$, given by $|\\psi_n(\\vec{r})|^2$."
      ]
    },
    {
      "cell_type": "code",
      "execution_count": null,
      "metadata": {
        "colab": {
          "base_uri": "https://localhost:8080/",
          "height": 471
        },
        "id": "Qsfx_q745YKN",
        "outputId": "ccbcc2ff-5beb-4468-ed6a-b8254016b361"
      },
      "outputs": [],
      "source": [
        "probability_map = solver.calc_probability(3)\n",
        "probability_map.plot(site_radius=(0.1, 0.32))"
      ]
    },
    {
      "cell_type": "markdown",
      "metadata": {
        "id": "8zSaoGE95akr"
      },
      "source": [
        "We can also have a system that is periodic in a given direction and finite in the other. In general, as we need to use the lattice vectors to define where the system is periodic, it gives the geometry of the new system. However, it is also possible to define a finite piece of a lattice as the new unit cell of a superlattice. This is necessary if we want to construct a graphene nanoribbon with armchair edges. Let us see two examples using graphene: one with zigzag edges and another with armchair edges."
      ]
    },
    {
      "cell_type": "code",
      "execution_count": null,
      "metadata": {
        "colab": {
          "base_uri": "https://localhost:8080/",
          "height": 454
        },
        "id": "jHOeWciC5dSo",
        "outputId": "ae41e465-9f5e-4b73-9e7a-4e1b1bc00613"
      },
      "outputs": [],
      "source": [
        "from pybinding.repository import graphene\n",
        "\n",
        "model = pb.Model(\n",
        "    graphene.monolayer(),\n",
        "    pb.rectangle(1.2),  # nm\n",
        "    pb.translational_symmetry(a1=True, a2=False)\n",
        ")\n",
        "model.plot()\n",
        "model.lattice.plot_vectors(position=[-0.6, 0.3])  # nm"
      ]
    },
    {
      "cell_type": "markdown",
      "metadata": {
        "id": "z46r6AMO5faC"
      },
      "source": [
        "After defining the ribbon, which is periodic in a given direction and finite in the other (light color indicates the orientation of the periodic part), we can now solve the Hamiltonian and find the eigenvalues (band) for a path in k-space (that now it has only one dimension). We can see that both edges have zigzag structure."
      ]
    },
    {
      "cell_type": "code",
      "execution_count": null,
      "metadata": {
        "colab": {
          "base_uri": "https://localhost:8080/",
          "height": 658
        },
        "id": "O-IgT9lj5h7h",
        "outputId": "c405e361-385b-4ede-c83f-ccb534833097"
      },
      "outputs": [],
      "source": [
        "from math import pi, sqrt\n",
        "\n",
        "solver = pb.solver.lapack(model)\n",
        "a = graphene.a_cc * sqrt(3)  # ribbon unit cell length\n",
        "bands = solver.calc_bands(-pi/a, pi/a)\n",
        "bands.plot()"
      ]
    },
    {
      "cell_type": "markdown",
      "metadata": {
        "id": "0msQ5StK5nam"
      },
      "source": [
        "This is the characteristic band structure for zigzag nanoribbons with zero-energy edge states. To actually see these are edge states, we can calculate the local density of states at $E=0$ eV for a given wave vector $k=\\pi/a$:"
      ]
    },
    {
      "cell_type": "code",
      "execution_count": null,
      "metadata": {
        "colab": {
          "base_uri": "https://localhost:8080/",
          "height": 474
        },
        "id": "qWxDufnA5roY",
        "outputId": "a026179d-6a05-48b7-8fcd-b79c14d6988d"
      },
      "outputs": [],
      "source": [
        "solver.set_wave_vector(k=pi/a)\n",
        "ldos = solver.calc_spatial_ldos(energy=0, broadening=0.01)  # LDOS around 0 eV\n",
        "\n",
        "ldos.plot(site_radius=(0.01, 0.05))\n",
        "pb.pltutils.colorbar(label=\"LDOS\")\n",
        "plt.show()"
      ]
    },
    {
      "cell_type": "markdown",
      "metadata": {
        "id": "P-g-8YAO5tFp"
      },
      "source": [
        "For an armchair edge, it is better to use the pre-defines graphene lattice with 4 atoms per unit cell where the two lattice vectors are parallel to  𝑥  and  𝑦 :"
      ]
    },
    {
      "cell_type": "code",
      "execution_count": null,
      "metadata": {
        "colab": {
          "base_uri": "https://localhost:8080/",
          "height": 454
        },
        "id": "3MTM9O8S5v5m",
        "outputId": "6fce91d3-2a61-4346-faed-819974be9754"
      },
      "outputs": [],
      "source": [
        "model = pb.Model(graphene.monolayer_4atom())\n",
        "model.plot()\n",
        "model.lattice.plot_vectors(position=[-0.13, -0.13])"
      ]
    },
    {
      "cell_type": "markdown",
      "metadata": {
        "id": "GgjK6MmA5x-K"
      },
      "source": [
        "with this new lattice, we can construct the ribbon"
      ]
    },
    {
      "cell_type": "code",
      "execution_count": null,
      "metadata": {
        "colab": {
          "base_uri": "https://localhost:8080/",
          "height": 454
        },
        "id": "ojk34dQHGiZI",
        "outputId": "ec3e305b-b501-4fc5-f575-344ea6f0bf91"
      },
      "outputs": [],
      "source": [
        "model = pb.Model(\n",
        "    graphene.monolayer_4atom(),\n",
        "    pb.primitive(a1=5),\n",
        "    pb.translational_symmetry(a1=False, a2=True)\n",
        ")\n",
        "model.plot()\n",
        "model.lattice.plot_vectors(position=[-0.59, -0.6])"
      ]
    },
    {
      "cell_type": "markdown",
      "metadata": {
        "id": "TCeyDUxQ52Zf"
      },
      "source": [
        "One can see that we constructed a ribbon with armchair terminations. We can now solve and obtain the band structure that does not have edge states:"
      ]
    },
    {
      "cell_type": "code",
      "execution_count": null,
      "metadata": {
        "colab": {
          "base_uri": "https://localhost:8080/",
          "height": 796
        },
        "id": "p-qHH2Tz55J0",
        "outputId": "9913b71d-097b-49b1-c1d4-d8fd95cad156"
      },
      "outputs": [],
      "source": [
        "solver = pb.solver.lapack(model)\n",
        "d = 3 * graphene.a_cc  # ribbon unit cell length\n",
        "bands = solver.calc_bands([0, -pi/d], [0, pi/d])\n",
        "bands.plot(point_labels=['$-\\pi / 3 a_{cc}$', '$\\pi / 3 a_{cc}$'])\n"
      ]
    }
  ],
  "metadata": {
    "colab": {
      "include_colab_link": true,
      "provenance": []
    },
    "deepnote": {},
    "deepnote_execution_queue": [],
    "deepnote_notebook_id": "73e88436-898a-4e8e-affa-975a86034ea2",
    "kernelspec": {
      "display_name": "Python 3",
      "name": "python3"
    },
    "language_info": {
      "name": "python",
      "version": "3.13.4"
    },
    "orig_nbformat": 2
  },
  "nbformat": 4,
  "nbformat_minor": 0
}
